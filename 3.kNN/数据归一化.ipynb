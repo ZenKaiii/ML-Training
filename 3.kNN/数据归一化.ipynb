{
 "cells": [
  {
   "cell_type": "markdown",
   "metadata": {},
   "source": [
    "### 数据归一化：将所有数据映射到同一尺度中\n",
    "#### 最值归一化(normalization)：把所有数据映射到0-1之间，适用于分布有明显边界的情况；受outlier影响大\n",
    "#### 改进->均值方差归一化(standardization)：把所有数据归一到均值为0方差为1的分布中"
   ]
  },
  {
   "cell_type": "code",
   "execution_count": 1,
   "metadata": {},
   "outputs": [],
   "source": [
    "import numpy as np\n",
    "import matplotlib.pyplot as plt"
   ]
  },
  {
   "cell_type": "markdown",
   "metadata": {},
   "source": [
    "### 最值归一化 Normalization"
   ]
  },
  {
   "cell_type": "code",
   "execution_count": 2,
   "metadata": {},
   "outputs": [
    {
     "data": {
      "text/plain": [
       "array([96, 18, 21, 48, 69, 13, 82, 65, 30, 83, 59,  4, 56, 70, 11, 65, 74,\n",
       "       76, 22, 46, 85, 53,  2, 38, 23, 99, 33, 18, 34, 80, 54, 44, 88, 99,\n",
       "       53, 53, 78,  2, 26, 79, 19, 89,  6, 89,  6, 96, 68, 59, 90, 12,  7,\n",
       "       59,  9, 57, 98, 38, 97, 68, 29,  6, 53, 38, 70, 86,  4, 74, 75, 83,\n",
       "       96, 29, 28, 23, 79, 26, 33,  0, 55, 97, 81, 33, 93, 40, 60, 41, 90,\n",
       "       12, 28, 44, 20,  2, 21, 15, 10, 92, 97, 44, 17, 41, 40, 49])"
      ]
     },
     "execution_count": 2,
     "metadata": {},
     "output_type": "execute_result"
    }
   ],
   "source": [
    "x = np.random.randint(0,100,size=100)\n",
    "x"
   ]
  },
  {
   "cell_type": "code",
   "execution_count": 3,
   "metadata": {},
   "outputs": [
    {
     "data": {
      "text/plain": [
       "array([0.96969697, 0.18181818, 0.21212121, 0.48484848, 0.6969697 ,\n",
       "       0.13131313, 0.82828283, 0.65656566, 0.3030303 , 0.83838384,\n",
       "       0.5959596 , 0.04040404, 0.56565657, 0.70707071, 0.11111111,\n",
       "       0.65656566, 0.74747475, 0.76767677, 0.22222222, 0.46464646,\n",
       "       0.85858586, 0.53535354, 0.02020202, 0.38383838, 0.23232323,\n",
       "       1.        , 0.33333333, 0.18181818, 0.34343434, 0.80808081,\n",
       "       0.54545455, 0.44444444, 0.88888889, 1.        , 0.53535354,\n",
       "       0.53535354, 0.78787879, 0.02020202, 0.26262626, 0.7979798 ,\n",
       "       0.19191919, 0.8989899 , 0.06060606, 0.8989899 , 0.06060606,\n",
       "       0.96969697, 0.68686869, 0.5959596 , 0.90909091, 0.12121212,\n",
       "       0.07070707, 0.5959596 , 0.09090909, 0.57575758, 0.98989899,\n",
       "       0.38383838, 0.97979798, 0.68686869, 0.29292929, 0.06060606,\n",
       "       0.53535354, 0.38383838, 0.70707071, 0.86868687, 0.04040404,\n",
       "       0.74747475, 0.75757576, 0.83838384, 0.96969697, 0.29292929,\n",
       "       0.28282828, 0.23232323, 0.7979798 , 0.26262626, 0.33333333,\n",
       "       0.        , 0.55555556, 0.97979798, 0.81818182, 0.33333333,\n",
       "       0.93939394, 0.4040404 , 0.60606061, 0.41414141, 0.90909091,\n",
       "       0.12121212, 0.28282828, 0.44444444, 0.2020202 , 0.02020202,\n",
       "       0.21212121, 0.15151515, 0.1010101 , 0.92929293, 0.97979798,\n",
       "       0.44444444, 0.17171717, 0.41414141, 0.4040404 , 0.49494949])"
      ]
     },
     "execution_count": 3,
     "metadata": {},
     "output_type": "execute_result"
    }
   ],
   "source": [
    "(x - np.min(x))/(np.max(x)-np.min(x))"
   ]
  },
  {
   "cell_type": "code",
   "execution_count": 4,
   "metadata": {},
   "outputs": [],
   "source": [
    "X = np.random.randint(0,100,(50,2))"
   ]
  },
  {
   "cell_type": "code",
   "execution_count": 5,
   "metadata": {},
   "outputs": [
    {
     "data": {
      "text/plain": [
       "array([[28, 83],\n",
       "       [ 5, 48],\n",
       "       [18, 45],\n",
       "       [43, 61],\n",
       "       [46, 92],\n",
       "       [69, 77],\n",
       "       [97, 45],\n",
       "       [19, 44],\n",
       "       [78, 78],\n",
       "       [56, 67]])"
      ]
     },
     "execution_count": 5,
     "metadata": {},
     "output_type": "execute_result"
    }
   ],
   "source": [
    "X[:10,:]"
   ]
  },
  {
   "cell_type": "code",
   "execution_count": 6,
   "metadata": {},
   "outputs": [],
   "source": [
    "X = np.array(X, dtype = float)"
   ]
  },
  {
   "cell_type": "code",
   "execution_count": 7,
   "metadata": {},
   "outputs": [
    {
     "data": {
      "text/plain": [
       "array([[28., 83.],\n",
       "       [ 5., 48.],\n",
       "       [18., 45.],\n",
       "       [43., 61.],\n",
       "       [46., 92.],\n",
       "       [69., 77.],\n",
       "       [97., 45.],\n",
       "       [19., 44.],\n",
       "       [78., 78.],\n",
       "       [56., 67.]])"
      ]
     },
     "execution_count": 7,
     "metadata": {},
     "output_type": "execute_result"
    }
   ],
   "source": [
    "X[:10,:]"
   ]
  },
  {
   "cell_type": "code",
   "execution_count": 8,
   "metadata": {},
   "outputs": [],
   "source": [
    "for i in range(0,2):\n",
    "    X[:,i] = (X[:,i]-np.min(X[:,i]))/(np.max(X[:,i])-np.min(X[:,i]))"
   ]
  },
  {
   "cell_type": "code",
   "execution_count": 9,
   "metadata": {},
   "outputs": [
    {
     "data": {
      "text/plain": [
       "array([[0.28865979, 0.83333333],\n",
       "       [0.05154639, 0.46875   ],\n",
       "       [0.18556701, 0.4375    ],\n",
       "       [0.44329897, 0.60416667],\n",
       "       [0.4742268 , 0.92708333],\n",
       "       [0.71134021, 0.77083333],\n",
       "       [1.        , 0.4375    ],\n",
       "       [0.19587629, 0.42708333],\n",
       "       [0.80412371, 0.78125   ],\n",
       "       [0.57731959, 0.66666667]])"
      ]
     },
     "execution_count": 9,
     "metadata": {},
     "output_type": "execute_result"
    }
   ],
   "source": [
    "X[:10,:]"
   ]
  },
  {
   "cell_type": "code",
   "execution_count": 10,
   "metadata": {},
   "outputs": [
    {
     "data": {
      "text/plain": [
       "<matplotlib.collections.PathCollection at 0x2a60f0fb630>"
      ]
     },
     "execution_count": 10,
     "metadata": {},
     "output_type": "execute_result"
    },
    {
     "data": {
      "image/png": "[encoded data removed]",
      "text/plain": [
       "<Figure size 432x288 with 1 Axes>"
      ]
     },
     "metadata": {
      "needs_background": "light"
     },
     "output_type": "display_data"
    }
   ],
   "source": [
    "plt.scatter(X[:,0],X[:,1])"
   ]
  },
  {
   "cell_type": "code",
   "execution_count": 12,
   "metadata": {},
   "outputs": [
    {
     "data": {
      "text/plain": [
       "0.5659793814432991"
      ]
     },
     "execution_count": 12,
     "metadata": {},
     "output_type": "execute_result"
    }
   ],
   "source": [
    "np.mean(X[:,0])"
   ]
  },
  {
   "cell_type": "code",
   "execution_count": 13,
   "metadata": {},
   "outputs": [
    {
     "data": {
      "text/plain": [
       "0.51375"
      ]
     },
     "execution_count": 13,
     "metadata": {},
     "output_type": "execute_result"
    }
   ],
   "source": [
    "np.mean(X[:,1])"
   ]
  },
  {
   "cell_type": "code",
   "execution_count": 14,
   "metadata": {},
   "outputs": [
    {
     "data": {
      "text/plain": [
       "0.3083434683018994"
      ]
     },
     "execution_count": 14,
     "metadata": {},
     "output_type": "execute_result"
    }
   ],
   "source": [
    "np.std(X[:,1])"
   ]
  },
  {
   "cell_type": "markdown",
   "metadata": {},
   "source": [
    "### 均值方差归一化"
   ]
  },
  {
   "cell_type": "code",
   "execution_count": 17,
   "metadata": {},
   "outputs": [],
   "source": [
    "X2 = np.random.randint(0,100,(50,2))\n",
    "X2 = np.array(X2, dtype= float)"
   ]
  },
  {
   "cell_type": "code",
   "execution_count": 18,
   "metadata": {},
   "outputs": [],
   "source": [
    "for i in range(0,2):\n",
    "    X2[:,i] = (X2[:,i] - np.mean(X2[:,i]))/np.std(X2[:,i])"
   ]
  },
  {
   "cell_type": "code",
   "execution_count": 19,
   "metadata": {},
   "outputs": [
    {
     "data": {
      "text/plain": [
       "<matplotlib.collections.PathCollection at 0x2a60ee766d8>"
      ]
     },
     "execution_count": 19,
     "metadata": {},
     "output_type": "execute_result"
    },
    {
     "data": {
      "image/png": "[encoded data removed]",
      "text/plain": [
       "<Figure size 432x288 with 1 Axes>"
      ]
     },
     "metadata": {
      "needs_background": "light"
     },
     "output_type": "display_data"
    }
   ],
   "source": [
    "plt.scatter(X2[:,0],X2[:,1])"
   ]
  },
  {
   "cell_type": "code",
   "execution_count": 21,
   "metadata": {},
   "outputs": [
    {
     "data": {
      "text/plain": [
       "-5.773159728050814e-17"
      ]
     },
     "execution_count": 21,
     "metadata": {},
     "output_type": "execute_result"
    }
   ],
   "source": [
    "np.mean(X2[:,0])"
   ]
  },
  {
   "cell_type": "code",
   "execution_count": 22,
   "metadata": {},
   "outputs": [
    {
     "data": {
      "text/plain": [
       "1.0"
      ]
     },
     "execution_count": 22,
     "metadata": {},
     "output_type": "execute_result"
    }
   ],
   "source": [
    "np.std(X2[:,0])"
   ]
  },
  {
   "cell_type": "markdown",
   "metadata": {},
   "source": [
    "### 如何对测试集归一化\n",
    "#### 也用训练集的平均值与方差做 -> (x_test - mean_train)/std_train"
   ]
  },
  {
   "cell_type": "markdown",
   "metadata": {},
   "source": [
    "## sklearn 中的Scaler"
   ]
  },
  {
   "cell_type": "code",
   "execution_count": 23,
   "metadata": {},
   "outputs": [],
   "source": [
    "import numpy as np\n",
    "from sklearn import datasets"
   ]
  },
  {
   "cell_type": "code",
   "execution_count": 24,
   "metadata": {},
   "outputs": [],
   "source": [
    "iris = datasets.load_iris()"
   ]
  },
  {
   "cell_type": "code",
   "execution_count": 25,
   "metadata": {},
   "outputs": [],
   "source": [
    "X = iris.data\n",
    "y = iris.target"
   ]
  },
  {
   "cell_type": "code",
   "execution_count": 26,
   "metadata": {},
   "outputs": [
    {
     "data": {
      "text/plain": [
       "array([[5.1, 3.5, 1.4, 0.2],\n",
       "       [4.9, 3. , 1.4, 0.2],\n",
       "       [4.7, 3.2, 1.3, 0.2],\n",
       "       [4.6, 3.1, 1.5, 0.2],\n",
       "       [5. , 3.6, 1.4, 0.2],\n",
       "       [5.4, 3.9, 1.7, 0.4],\n",
       "       [4.6, 3.4, 1.4, 0.3],\n",
       "       [5. , 3.4, 1.5, 0.2],\n",
       "       [4.4, 2.9, 1.4, 0.2],\n",
       "       [4.9, 3.1, 1.5, 0.1]])"
      ]
     },
     "execution_count": 26,
     "metadata": {},
     "output_type": "execute_result"
    }
   ],
   "source": [
    "X[:10,:]"
   ]
  },
  {
   "cell_type": "code",
   "execution_count": 27,
   "metadata": {},
   "outputs": [],
   "source": [
    "from sklearn.model_selection import train_test_split\n",
    "\n",
    "X_train, X_test, y_train, y_test = train_test_split(X,y,test_size= 0.2,random_state = 666)"
   ]
  },
  {
   "cell_type": "markdown",
   "metadata": {},
   "source": [
    "### StandardScaler"
   ]
  },
  {
   "cell_type": "code",
   "execution_count": 28,
   "metadata": {},
   "outputs": [],
   "source": [
    "from sklearn.preprocessing import StandardScaler"
   ]
  },
  {
   "cell_type": "code",
   "execution_count": 29,
   "metadata": {},
   "outputs": [],
   "source": [
    "stdScaler = StandardScaler()"
   ]
  },
  {
   "cell_type": "code",
   "execution_count": 30,
   "metadata": {},
   "outputs": [
    {
     "data": {
      "text/plain": [
       "StandardScaler(copy=True, with_mean=True, with_std=True)"
      ]
     },
     "execution_count": 30,
     "metadata": {},
     "output_type": "execute_result"
    }
   ],
   "source": [
    "stdScaler.fit(X_train)"
   ]
  },
  {
   "cell_type": "code",
   "execution_count": 31,
   "metadata": {},
   "outputs": [
    {
     "data": {
      "text/plain": [
       "array([5.83416667, 3.08666667, 3.70833333, 1.17      ])"
      ]
     },
     "execution_count": 31,
     "metadata": {},
     "output_type": "execute_result"
    }
   ],
   "source": [
    "stdScaler.mean_"
   ]
  },
  {
   "cell_type": "code",
   "execution_count": 34,
   "metadata": {},
   "outputs": [
    {
     "data": {
      "text/plain": [
       "array([0.81019502, 0.44327067, 1.76401924, 0.75317107])"
      ]
     },
     "execution_count": 34,
     "metadata": {},
     "output_type": "execute_result"
    }
   ],
   "source": [
    "stdScaler.scale_  ##标准差 描述数据分布范围"
   ]
  },
  {
   "cell_type": "code",
   "execution_count": 35,
   "metadata": {},
   "outputs": [
    {
     "data": {
      "text/plain": [
       "array([[-0.90616043,  0.93246262, -1.30856471, -1.28788802],\n",
       "       [-1.15301457, -0.19551636, -1.30856471, -1.28788802],\n",
       "       [-0.16559799, -0.64670795,  0.22203084,  0.17260355],\n",
       "       [ 0.45153738,  0.70686683,  0.95898425,  1.50032315],\n",
       "       [-0.90616043, -1.32349533, -0.40154513, -0.09294037],\n",
       "       [ 1.43895396,  0.25567524,  0.56216318,  0.30537551],\n",
       "       [ 0.3281103 , -1.09789954,  1.0723617 ,  0.30537551],\n",
       "       [ 2.1795164 , -0.19551636,  1.63924894,  1.23477923],\n",
       "       [-0.78273335,  2.2860374 , -1.25187599, -1.42065998],\n",
       "       [ 0.45153738, -2.00028272,  0.44878573,  0.43814747],\n",
       "       [ 1.80923518, -0.42111215,  1.46918276,  0.83646335],\n",
       "       [ 0.69839152,  0.25567524,  0.90229552,  1.50032315],\n",
       "       [ 0.20468323,  0.70686683,  0.44878573,  0.57091943],\n",
       "       [-0.78273335, -0.87230374,  0.10865339,  0.30537551],\n",
       "       [-0.53587921,  1.38365421, -1.25187599, -1.28788802],\n",
       "       [-0.65930628,  1.38365421, -1.25187599, -1.28788802],\n",
       "       [-1.0295875 ,  0.93246262, -1.19518726, -0.75680017],\n",
       "       [-1.77014994, -0.42111215, -1.30856471, -1.28788802],\n",
       "       [-0.04217092, -0.87230374,  0.10865339,  0.03983159],\n",
       "       [-0.78273335,  0.70686683, -1.30856471, -1.28788802],\n",
       "       [-1.52329579,  0.70686683, -1.30856471, -1.15511606],\n",
       "       [ 0.82181859,  0.25567524,  0.78891808,  1.10200727],\n",
       "       [-0.16559799, -0.42111215,  0.27871956,  0.17260355],\n",
       "       [ 0.94524567, -0.19551636,  0.39209701,  0.30537551],\n",
       "       [ 0.20468323, -0.42111215,  0.44878573,  0.43814747],\n",
       "       [-1.39986872,  0.25567524, -1.19518726, -1.28788802],\n",
       "       [-1.15301457,  1.15805842, -1.30856471, -1.42065998],\n",
       "       [ 1.06867274,  0.03007944,  1.0723617 ,  1.63309511],\n",
       "       [ 0.57496445, -0.87230374,  0.67554063,  0.83646335],\n",
       "       [ 0.3281103 , -0.64670795,  0.56216318,  0.03983159],\n",
       "       [ 0.45153738, -0.64670795,  0.6188519 ,  0.83646335],\n",
       "       [-0.16559799,  2.96282478, -1.25187599, -1.0223441 ],\n",
       "       [ 0.57496445, -1.32349533,  0.67554063,  0.43814747],\n",
       "       [ 0.69839152, -0.42111215,  0.33540828,  0.17260355],\n",
       "       [-0.90616043,  1.60925001, -1.02512109, -1.0223441 ],\n",
       "       [ 1.19209981, -0.64670795,  0.6188519 ,  0.30537551],\n",
       "       [-0.90616043,  0.93246262, -1.30856471, -1.15511606],\n",
       "       [-1.89357701, -0.19551636, -1.47863088, -1.42065998],\n",
       "       [ 0.08125616, -0.19551636,  0.78891808,  0.83646335],\n",
       "       [ 0.69839152, -0.64670795,  1.0723617 ,  1.23477923],\n",
       "       [-0.28902506, -0.64670795,  0.67554063,  1.10200727],\n",
       "       [-0.41245214, -1.54909113, -0.00472406, -0.22571233],\n",
       "       [ 1.31552689,  0.03007944,  0.67554063,  0.43814747],\n",
       "       [ 0.57496445,  0.70686683,  1.0723617 ,  1.63309511],\n",
       "       [ 0.82181859, -0.19551636,  1.18573914,  1.36755119],\n",
       "       [-0.16559799,  1.60925001, -1.13849854, -1.15511606],\n",
       "       [ 0.94524567, -0.42111215,  0.50547446,  0.17260355],\n",
       "       [ 1.06867274,  0.48127103,  1.12905042,  1.76586707],\n",
       "       [-1.27644165, -0.19551636, -1.30856471, -1.42065998],\n",
       "       [-1.0295875 ,  1.15805842, -1.30856471, -1.28788802],\n",
       "       [ 0.20468323, -0.19551636,  0.6188519 ,  0.83646335],\n",
       "       [-1.0295875 , -0.19551636, -1.19518726, -1.28788802],\n",
       "       [ 0.3281103 , -0.19551636,  0.67554063,  0.83646335],\n",
       "       [ 0.69839152,  0.03007944,  1.01567297,  0.83646335],\n",
       "       [-0.90616043,  1.38365421, -1.25187599, -1.0223441 ],\n",
       "       [-0.16559799, -0.19551636,  0.27871956,  0.03983159],\n",
       "       [-1.0295875 ,  0.93246262, -1.36525344, -1.15511606],\n",
       "       [-0.90616043,  1.60925001, -1.25187599, -1.15511606],\n",
       "       [-1.52329579,  0.25567524, -1.30856471, -1.28788802],\n",
       "       [-0.53587921, -0.19551636,  0.44878573,  0.43814747],\n",
       "       [ 0.82181859, -0.64670795,  0.50547446,  0.43814747],\n",
       "       [ 0.3281103 , -0.64670795,  0.16534211,  0.17260355],\n",
       "       [-1.27644165,  0.70686683, -1.19518726, -1.28788802],\n",
       "       [-0.90616043,  0.48127103, -1.13849854, -0.88957213],\n",
       "       [-0.04217092, -0.87230374,  0.78891808,  0.96923531],\n",
       "       [-0.28902506, -0.19551636,  0.22203084,  0.17260355],\n",
       "       [ 0.57496445, -0.64670795,  0.78891808,  0.43814747],\n",
       "       [ 1.06867274,  0.48127103,  1.12905042,  1.23477923],\n",
       "       [ 1.68580811, -0.19551636,  1.18573914,  0.57091943],\n",
       "       [ 1.06867274, -0.19551636,  0.8456068 ,  1.50032315],\n",
       "       [-1.15301457,  0.03007944, -1.25187599, -1.42065998],\n",
       "       [-1.15301457, -1.32349533,  0.44878573,  0.70369139],\n",
       "       [-0.16559799, -1.32349533,  0.73222935,  1.10200727],\n",
       "       [-1.15301457, -1.54909113, -0.23147896, -0.22571233],\n",
       "       [-0.41245214, -1.54909113,  0.05196466, -0.09294037],\n",
       "       [ 1.06867274, -1.32349533,  1.18573914,  0.83646335],\n",
       "       [ 0.82181859, -0.19551636,  1.01567297,  0.83646335],\n",
       "       [-0.16559799, -1.09789954, -0.11810151, -0.22571233],\n",
       "       [ 0.20468323, -2.00028272,  0.73222935,  0.43814747],\n",
       "       [ 1.06867274,  0.03007944,  0.56216318,  0.43814747],\n",
       "       [-1.15301457,  0.03007944, -1.25187599, -1.28788802],\n",
       "       [ 0.57496445, -1.32349533,  0.73222935,  0.96923531],\n",
       "       [-1.39986872,  0.25567524, -1.36525344, -1.28788802],\n",
       "       [ 0.20468323, -0.87230374,  0.78891808,  0.57091943],\n",
       "       [-0.04217092, -1.09789954,  0.16534211,  0.03983159],\n",
       "       [ 1.31552689,  0.25567524,  1.12905042,  1.50032315],\n",
       "       [-1.77014994, -0.19551636, -1.36525344, -1.28788802],\n",
       "       [ 1.56238103, -0.19551636,  1.24242787,  1.23477923],\n",
       "       [ 1.19209981,  0.25567524,  1.24242787,  1.50032315],\n",
       "       [-0.78273335,  0.93246262, -1.25187599, -1.28788802],\n",
       "       [ 2.54979762,  1.60925001,  1.52587149,  1.10200727],\n",
       "       [ 0.69839152, -0.64670795,  1.0723617 ,  1.36755119],\n",
       "       [-0.28902506, -0.42111215, -0.06141278,  0.17260355],\n",
       "       [-0.41245214,  2.51163319, -1.30856471, -1.28788802],\n",
       "       [-1.27644165, -0.19551636, -1.30856471, -1.15511606],\n",
       "       [ 0.57496445, -0.42111215,  1.0723617 ,  0.83646335],\n",
       "       [-1.77014994,  0.25567524, -1.36525344, -1.28788802],\n",
       "       [-0.53587921,  1.8348458 , -1.13849854, -1.0223441 ],\n",
       "       [-1.0295875 ,  0.70686683, -1.19518726, -1.0223441 ],\n",
       "       [ 1.06867274, -0.19551636,  0.73222935,  0.70369139],\n",
       "       [-0.53587921,  1.8348458 , -1.36525344, -1.0223441 ],\n",
       "       [ 2.30294347, -0.64670795,  1.69593766,  1.10200727],\n",
       "       [-0.28902506, -0.87230374,  0.27871956,  0.17260355],\n",
       "       [ 1.19209981, -0.19551636,  1.01567297,  1.23477923],\n",
       "       [-0.41245214,  0.93246262, -1.36525344, -1.28788802],\n",
       "       [-1.27644165,  0.70686683, -1.02512109, -1.28788802],\n",
       "       [-0.53587921,  0.70686683, -1.13849854, -1.28788802],\n",
       "       [ 2.30294347,  1.60925001,  1.69593766,  1.36755119],\n",
       "       [ 1.31552689,  0.03007944,  0.95898425,  1.23477923],\n",
       "       [-0.28902506, -1.32349533,  0.10865339, -0.09294037],\n",
       "       [-0.90616043,  0.70686683, -1.25187599, -1.28788802],\n",
       "       [-0.90616043,  1.60925001, -1.19518726, -1.28788802],\n",
       "       [ 0.3281103 , -0.42111215,  0.56216318,  0.30537551],\n",
       "       [-0.04217092,  2.0604416 , -1.42194216, -1.28788802],\n",
       "       [-1.0295875 , -2.45147431, -0.11810151, -0.22571233],\n",
       "       [ 0.69839152,  0.25567524,  0.44878573,  0.43814747],\n",
       "       [ 0.3281103 , -0.19551636,  0.50547446,  0.30537551],\n",
       "       [ 0.08125616,  0.25567524,  0.6188519 ,  0.83646335],\n",
       "       [ 0.20468323, -2.00028272,  0.16534211, -0.22571233],\n",
       "       [ 1.93266225, -0.64670795,  1.35580532,  0.96923531]])"
      ]
     },
     "execution_count": 35,
     "metadata": {},
     "output_type": "execute_result"
    }
   ],
   "source": [
    "stdScaler.transform(X_train)"
   ]
  },
  {
   "cell_type": "code",
   "execution_count": 36,
   "metadata": {},
   "outputs": [
    {
     "data": {
      "text/plain": [
       "array([[5.1, 3.5, 1.4, 0.2],\n",
       "       [4.9, 3. , 1.4, 0.2],\n",
       "       [5.7, 2.8, 4.1, 1.3],\n",
       "       [6.2, 3.4, 5.4, 2.3],\n",
       "       [5.1, 2.5, 3. , 1.1],\n",
       "       [7. , 3.2, 4.7, 1.4],\n",
       "       [6.1, 2.6, 5.6, 1.4],\n",
       "       [7.6, 3. , 6.6, 2.1],\n",
       "       [5.2, 4.1, 1.5, 0.1],\n",
       "       [6.2, 2.2, 4.5, 1.5],\n",
       "       [7.3, 2.9, 6.3, 1.8],\n",
       "       [6.4, 3.2, 5.3, 2.3],\n",
       "       [6. , 3.4, 4.5, 1.6],\n",
       "       [5.2, 2.7, 3.9, 1.4],\n",
       "       [5.4, 3.7, 1.5, 0.2],\n",
       "       [5.3, 3.7, 1.5, 0.2],\n",
       "       [5. , 3.5, 1.6, 0.6],\n",
       "       [4.4, 2.9, 1.4, 0.2],\n",
       "       [5.8, 2.7, 3.9, 1.2],\n",
       "       [5.2, 3.4, 1.4, 0.2],\n",
       "       [4.6, 3.4, 1.4, 0.3],\n",
       "       [6.5, 3.2, 5.1, 2. ],\n",
       "       [5.7, 2.9, 4.2, 1.3],\n",
       "       [6.6, 3. , 4.4, 1.4],\n",
       "       [6. , 2.9, 4.5, 1.5],\n",
       "       [4.7, 3.2, 1.6, 0.2],\n",
       "       [4.9, 3.6, 1.4, 0.1],\n",
       "       [6.7, 3.1, 5.6, 2.4],\n",
       "       [6.3, 2.7, 4.9, 1.8],\n",
       "       [6.1, 2.8, 4.7, 1.2],\n",
       "       [6.2, 2.8, 4.8, 1.8],\n",
       "       [5.7, 4.4, 1.5, 0.4],\n",
       "       [6.3, 2.5, 4.9, 1.5],\n",
       "       [6.4, 2.9, 4.3, 1.3],\n",
       "       [5.1, 3.8, 1.9, 0.4],\n",
       "       [6.8, 2.8, 4.8, 1.4],\n",
       "       [5.1, 3.5, 1.4, 0.3],\n",
       "       [4.3, 3. , 1.1, 0.1],\n",
       "       [5.9, 3. , 5.1, 1.8],\n",
       "       [6.4, 2.8, 5.6, 2.1],\n",
       "       [5.6, 2.8, 4.9, 2. ],\n",
       "       [5.5, 2.4, 3.7, 1. ],\n",
       "       [6.9, 3.1, 4.9, 1.5],\n",
       "       [6.3, 3.4, 5.6, 2.4],\n",
       "       [6.5, 3. , 5.8, 2.2],\n",
       "       [5.7, 3.8, 1.7, 0.3],\n",
       "       [6.6, 2.9, 4.6, 1.3],\n",
       "       [6.7, 3.3, 5.7, 2.5],\n",
       "       [4.8, 3. , 1.4, 0.1],\n",
       "       [5. , 3.6, 1.4, 0.2],\n",
       "       [6. , 3. , 4.8, 1.8],\n",
       "       [5. , 3. , 1.6, 0.2],\n",
       "       [6.1, 3. , 4.9, 1.8],\n",
       "       [6.4, 3.1, 5.5, 1.8],\n",
       "       [5.1, 3.7, 1.5, 0.4],\n",
       "       [5.7, 3. , 4.2, 1.2],\n",
       "       [5. , 3.5, 1.3, 0.3],\n",
       "       [5.1, 3.8, 1.5, 0.3],\n",
       "       [4.6, 3.2, 1.4, 0.2],\n",
       "       [5.4, 3. , 4.5, 1.5],\n",
       "       [6.5, 2.8, 4.6, 1.5],\n",
       "       [6.1, 2.8, 4. , 1.3],\n",
       "       [4.8, 3.4, 1.6, 0.2],\n",
       "       [5.1, 3.3, 1.7, 0.5],\n",
       "       [5.8, 2.7, 5.1, 1.9],\n",
       "       [5.6, 3. , 4.1, 1.3],\n",
       "       [6.3, 2.8, 5.1, 1.5],\n",
       "       [6.7, 3.3, 5.7, 2.1],\n",
       "       [7.2, 3. , 5.8, 1.6],\n",
       "       [6.7, 3. , 5.2, 2.3],\n",
       "       [4.9, 3.1, 1.5, 0.1],\n",
       "       [4.9, 2.5, 4.5, 1.7],\n",
       "       [5.7, 2.5, 5. , 2. ],\n",
       "       [4.9, 2.4, 3.3, 1. ],\n",
       "       [5.5, 2.4, 3.8, 1.1],\n",
       "       [6.7, 2.5, 5.8, 1.8],\n",
       "       [6.5, 3. , 5.5, 1.8],\n",
       "       [5.7, 2.6, 3.5, 1. ],\n",
       "       [6. , 2.2, 5. , 1.5],\n",
       "       [6.7, 3.1, 4.7, 1.5],\n",
       "       [4.9, 3.1, 1.5, 0.2],\n",
       "       [6.3, 2.5, 5. , 1.9],\n",
       "       [4.7, 3.2, 1.3, 0.2],\n",
       "       [6. , 2.7, 5.1, 1.6],\n",
       "       [5.8, 2.6, 4. , 1.2],\n",
       "       [6.9, 3.2, 5.7, 2.3],\n",
       "       [4.4, 3. , 1.3, 0.2],\n",
       "       [7.1, 3. , 5.9, 2.1],\n",
       "       [6.8, 3.2, 5.9, 2.3],\n",
       "       [5.2, 3.5, 1.5, 0.2],\n",
       "       [7.9, 3.8, 6.4, 2. ],\n",
       "       [6.4, 2.8, 5.6, 2.2],\n",
       "       [5.6, 2.9, 3.6, 1.3],\n",
       "       [5.5, 4.2, 1.4, 0.2],\n",
       "       [4.8, 3. , 1.4, 0.3],\n",
       "       [6.3, 2.9, 5.6, 1.8],\n",
       "       [4.4, 3.2, 1.3, 0.2],\n",
       "       [5.4, 3.9, 1.7, 0.4],\n",
       "       [5. , 3.4, 1.6, 0.4],\n",
       "       [6.7, 3. , 5. , 1.7],\n",
       "       [5.4, 3.9, 1.3, 0.4],\n",
       "       [7.7, 2.8, 6.7, 2. ],\n",
       "       [5.6, 2.7, 4.2, 1.3],\n",
       "       [6.8, 3. , 5.5, 2.1],\n",
       "       [5.5, 3.5, 1.3, 0.2],\n",
       "       [4.8, 3.4, 1.9, 0.2],\n",
       "       [5.4, 3.4, 1.7, 0.2],\n",
       "       [7.7, 3.8, 6.7, 2.2],\n",
       "       [6.9, 3.1, 5.4, 2.1],\n",
       "       [5.6, 2.5, 3.9, 1.1],\n",
       "       [5.1, 3.4, 1.5, 0.2],\n",
       "       [5.1, 3.8, 1.6, 0.2],\n",
       "       [6.1, 2.9, 4.7, 1.4],\n",
       "       [5.8, 4. , 1.2, 0.2],\n",
       "       [5. , 2. , 3.5, 1. ],\n",
       "       [6.4, 3.2, 4.5, 1.5],\n",
       "       [6.1, 3. , 4.6, 1.4],\n",
       "       [5.9, 3.2, 4.8, 1.8],\n",
       "       [6. , 2.2, 4. , 1. ],\n",
       "       [7.4, 2.8, 6.1, 1.9]])"
      ]
     },
     "execution_count": 36,
     "metadata": {},
     "output_type": "execute_result"
    }
   ],
   "source": [
    "X_train "
   ]
  },
  {
   "cell_type": "code",
   "execution_count": 37,
   "metadata": {},
   "outputs": [],
   "source": [
    "X_train = stdScaler.transform(X_train)"
   ]
  },
  {
   "cell_type": "code",
   "execution_count": 38,
   "metadata": {},
   "outputs": [],
   "source": [
    "X_test_standard = stdScaler.transform(X_test)"
   ]
  },
  {
   "cell_type": "code",
   "execution_count": 39,
   "metadata": {},
   "outputs": [],
   "source": [
    "from sklearn.neighbors import KNeighborsClassifier"
   ]
  },
  {
   "cell_type": "code",
   "execution_count": 40,
   "metadata": {},
   "outputs": [],
   "source": [
    "knn_clf = KNeighborsClassifier(n_neighbors=3)"
   ]
  },
  {
   "cell_type": "code",
   "execution_count": 41,
   "metadata": {},
   "outputs": [
    {
     "data": {
      "text/plain": [
       "KNeighborsClassifier(algorithm='auto', leaf_size=30, metric='minkowski',\n",
       "           metric_params=None, n_jobs=None, n_neighbors=3, p=2,\n",
       "           weights='uniform')"
      ]
     },
     "execution_count": 41,
     "metadata": {},
     "output_type": "execute_result"
    }
   ],
   "source": [
    "knn_clf.fit(X_train,y_train)"
   ]
  },
  {
   "cell_type": "code",
   "execution_count": 42,
   "metadata": {},
   "outputs": [
    {
     "data": {
      "text/plain": [
       "1.0"
      ]
     },
     "execution_count": 42,
     "metadata": {},
     "output_type": "execute_result"
    }
   ],
   "source": [
    "knn_clf.score(X_test_standard,y_test)"
   ]
  },
  {
   "cell_type": "code",
   "execution_count": null,
   "metadata": {},
   "outputs": [],
   "source": []
  }
 ],
 "metadata": {
  "kernelspec": {
   "display_name": "Python 3",
   "language": "python",
   "name": "python3"
  },
  "language_info": {
   "codemirror_mode": {
    "name": "ipython",
    "version": 3
   },
   "file_extension": ".py",
   "mimetype": "text/x-python",
   "name": "python",
   "nbconvert_exporter": "python",
   "pygments_lexer": "ipython3",
   "version": "3.7.3"
  }
 },
 "nbformat": 4,
 "nbformat_minor": 2
}
